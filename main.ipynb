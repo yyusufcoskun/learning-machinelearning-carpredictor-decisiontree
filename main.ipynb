{
 "cells": [
  {
   "cell_type": "code",
   "execution_count": 122,
   "metadata": {},
   "outputs": [
    {
     "name": "stderr",
     "output_type": "stream",
     "text": [
      "c:\\Users\\Aykut\\AppData\\Local\\Programs\\Python\\Python311\\Lib\\site-packages\\sklearn\\base.py:420: UserWarning: X does not have valid feature names, but DecisionTreeClassifier was fitted with feature names\n",
      "  warnings.warn(\n"
     ]
    }
   ],
   "source": [
    "import pandas as pd\n",
    "from sklearn.tree import DecisionTreeClassifier\n",
    "from sklearn.model_selection import train_test_split\n",
    "from sklearn.metrics import accuracy_score\n",
    "from sklearn import tree\n",
    "from joblib import dump, load\n",
    "\n",
    "car_data = pd.read_csv('Car.csv')\n",
    "\n",
    "# X = car_data.drop(columns= [\"type\"] )\n",
    "# y = car_data[\"type\"]\n",
    "\n",
    "# X_train, X_test, y_train, y_test = train_test_split(X, y, test_size=0.01)\n",
    "\n",
    "# model = DecisionTreeClassifier()\n",
    "# model.fit(X_train, y_train)\n",
    "\n",
    "# predictions = model.predict(X_test)\n",
    "# predictions\n",
    "\n",
    "# score = accuracy_score(y_test, predictions)\n",
    "# score\n",
    "\n",
    "# dump(model, 'car-predictor.joblib')\n",
    "\n",
    "model = load('car-predictor.joblib')\n",
    "predictions = model.predict([[22,0]])\n",
    "predictions\n",
    "\n",
    "tree.export_graphviz(model, out_file=\"car-predictor.dot\", feature_names=[\"age\",\"commutelowerthan5\"], class_names=sorted(y.unique()), label=\"all\", rounded=True, filled=True)"
   ]
  }
 ],
 "metadata": {
  "kernelspec": {
   "display_name": "Python 3",
   "language": "python",
   "name": "python3"
  },
  "language_info": {
   "codemirror_mode": {
    "name": "ipython",
    "version": 3
   },
   "file_extension": ".py",
   "mimetype": "text/x-python",
   "name": "python",
   "nbconvert_exporter": "python",
   "pygments_lexer": "ipython3",
   "version": "3.11.1"
  },
  "orig_nbformat": 4,
  "vscode": {
   "interpreter": {
    "hash": "f0bad363c1ab195924145b0e1015c3c8417491041344e65ef2143b9ac911180d"
   }
  }
 },
 "nbformat": 4,
 "nbformat_minor": 2
}
